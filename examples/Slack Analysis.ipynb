{
 "cells": [
  {
   "cell_type": "code",
   "execution_count": 34,
   "metadata": {},
   "outputs": [
    {
     "data": {
      "text/plain": [
       "{'UCF1JFL07': 115,\n",
       " 'UCFKHHFRA': 2,\n",
       " 'UCFKM89B6': 5,\n",
       " 'UCG1M0MBP': 13,\n",
       " 'UCFNY7R6F': 16,\n",
       " 'UCFP8Q5MH': 6,\n",
       " 'UCH8AQW6A': 11,\n",
       " 'UCFQ496BV': 15,\n",
       " 'UCH8FFPT9': 6,\n",
       " 'UCGD165J8': 5,\n",
       " 'UCG1134GG': 6,\n",
       " 'UCG65720Y': 8,\n",
       " 'UCJC58D9C': 2,\n",
       " 'UCGB7KXB2': 4,\n",
       " 'UCH8V3PFX': 3,\n",
       " 'UCGUBC8DS': 2,\n",
       " 'UCH852W83': 2,\n",
       " 'UCGMW7PPA': 5,\n",
       " 'UCJFA3PPH': 5,\n",
       " 'UCGNC8Y7J': 6,\n",
       " 'UCN704FAS': 2,\n",
       " 'UCJQL7G78': 22,\n",
       " 'UCHJP7RRB': 3}"
      ]
     },
     "execution_count": 34,
     "metadata": {},
     "output_type": "execute_result"
    }
   ],
   "source": [
    "import json\n",
    "import glob\n",
    "with open('/Users/zachwhalen/Downloads/slack_data/users.json') as json_data:\n",
    "    d = json.load(json_data)\n",
    "\n",
    "messages = []\n",
    "by_user = {}\n",
    "for folder in [\"random\",\"brag\",\"general\",\"troubleshooting\"]:\n",
    "    files = glob.glob(\"/Users/zachwhalen/Downloads/slack_data/\" + folder + \"/*.json\")\n",
    "    for file in files:\n",
    "        with open(file) as json_data:\n",
    "            d = json.load(json_data)\n",
    "            messages += d\n",
    "\n",
    "            \n",
    "for msg in messages:\n",
    "    if (len(msg['text']) > 0):        \n",
    "        if (\"user\" in msg.keys()):\n",
    "            if (msg[\"user\"] in by_user.keys()):\n",
    "                by_user[msg[\"user\"]] += 1\n",
    "            else:\n",
    "                by_user[msg[\"user\"]] = 1\n",
    "        \n",
    "    \n",
    "by_user"
   ]
  },
  {
   "cell_type": "code",
   "execution_count": null,
   "metadata": {},
   "outputs": [],
   "source": []
  }
 ],
 "metadata": {
  "kernelspec": {
   "display_name": "Python 3",
   "language": "python",
   "name": "python3"
  },
  "language_info": {
   "codemirror_mode": {
    "name": "ipython",
    "version": 3
   },
   "file_extension": ".py",
   "mimetype": "text/x-python",
   "name": "python",
   "nbconvert_exporter": "python",
   "pygments_lexer": "ipython3",
   "version": "3.6.5"
  }
 },
 "nbformat": 4,
 "nbformat_minor": 2
}
