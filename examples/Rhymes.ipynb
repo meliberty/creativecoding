{
 "cells": [
  {
   "cell_type": "code",
   "execution_count": 18,
   "metadata": {},
   "outputs": [
    {
     "name": "stdout",
     "output_type": "stream",
     "text": [
      "working on txt/frankenstein.txt\n",
      "working on txt/lastman.txt\n",
      "working on txt/lodore.txt\n",
      "working on txt/mathilda.txt\n",
      "working on txt/proserpine.txt\n",
      "working on txt/stories.txt\n",
      "working on txt/tour.txt\n",
      "working on txt/valperga.txt\n",
      "working on txt/warbeck.txt\n"
     ]
    }
   ],
   "source": [
    "from textblob import TextBlob\n",
    "import re\n",
    "import random\n",
    "import glob\n",
    "\n",
    "files = glob.glob(\"txt/*.txt\")\n",
    "np = []\n",
    "text = ''\n",
    "for file in files:\n",
    "    print(\"working on \" + file)\n",
    "    with open(file,\"r\") as f:\n",
    "        text = f.read()\n",
    "    blob = TextBlob(text)\n",
    "    \n",
    "    np += blob.noun_phrases\n",
    "\n"
   ]
  },
  {
   "cell_type": "code",
   "execution_count": 27,
   "metadata": {},
   "outputs": [],
   "source": [
    "def syllables_in_phrase(phrase):\n",
    "    syll = 0\n",
    "    blanks = 0\n",
    "    words = phrase.split(\" \")\n",
    "    for word in words:\n",
    "        phones = pronouncing.phones_for_word(word)\n",
    "        if (len(phones)> 0):\n",
    "            syll_count = pronouncing.syllable_count( phones[0] )\n",
    "            syll += syll_count\n",
    "        else:\n",
    "            blanks += 1\n",
    "    \n",
    "    if (blanks > 0):\n",
    "        return 0\n",
    "    else:\n",
    "        return syll"
   ]
  },
  {
   "cell_type": "code",
   "execution_count": 65,
   "metadata": {},
   "outputs": [],
   "source": [
    "fives = {}\n",
    "sevens = {}\n",
    "for p in np:\n",
    "    #phrases = {}\n",
    "    if (syllables_in_phrase(p) is 5):\n",
    "        fives[str(p)] = 1\n",
    "        #print(p)\n",
    "    elif(syllables_in_phrase(p) is 7):\n",
    "        sevens[str(p)] = 1\n",
    "       # print(p)"
   ]
  },
  {
   "cell_type": "code",
   "execution_count": 92,
   "metadata": {},
   "outputs": [
    {
     "name": "stdout",
     "output_type": "stream",
     "text": [
      "outward sensations\n",
      "such motley materials\n",
      "husband 's absence\n",
      " \n"
     ]
    }
   ],
   "source": [
    "print( random.choice(list(fives.keys())) )\n",
    "print( random.choice(list(sevens.keys())) )\n",
    "print( random.choice(list(fives.keys())) )\n",
    "print(\" \")"
   ]
  },
  {
   "cell_type": "code",
   "execution_count": 25,
   "metadata": {},
   "outputs": [],
   "source": [
    "import pronouncing"
   ]
  }
 ],
 "metadata": {
  "kernelspec": {
   "display_name": "Python 3",
   "language": "python",
   "name": "python3"
  },
  "language_info": {
   "codemirror_mode": {
    "name": "ipython",
    "version": 3
   },
   "file_extension": ".py",
   "mimetype": "text/x-python",
   "name": "python",
   "nbconvert_exporter": "python",
   "pygments_lexer": "ipython3",
   "version": "3.6.5"
  }
 },
 "nbformat": 4,
 "nbformat_minor": 2
}
