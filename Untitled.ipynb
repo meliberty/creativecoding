{
 "cells": [
  {
   "cell_type": "code",
   "execution_count": 4,
   "metadata": {},
   "outputs": [
    {
     "data": {
      "text/plain": [
       "3"
      ]
     },
     "execution_count": 4,
     "metadata": {},
     "output_type": "execute_result"
    }
   ],
   "source": [
    "import pronouncing\n",
    "\n",
    "pronunciation_list = pronouncing.phones_for_word(\"programming\")\n",
    "pronouncing.syllable_count(pronunciation_list[0])"
   ]
  },
  {
   "cell_type": "code",
   "execution_count": 5,
   "metadata": {},
   "outputs": [],
   "source": [
    "line = \"fear and loathing in las vegas is a book that was adapted to movie\""
   ]
  },
  {
   "cell_type": "code",
   "execution_count": 10,
   "metadata": {},
   "outputs": [],
   "source": [
    "wordlist = line.split(\" \")"
   ]
  },
  {
   "cell_type": "code",
   "execution_count": 11,
   "metadata": {},
   "outputs": [
    {
     "name": "stdout",
     "output_type": "stream",
     "text": [
      "['fear', 'and', 'loathing', 'in', 'las', 'vegas', 'is', 'a', 'book', 'that', 'was', 'adapted', 'to', 'movie']\n"
     ]
    }
   ],
   "source": [
    "print(wordlist)"
   ]
  },
  {
   "cell_type": "code",
   "execution_count": 12,
   "metadata": {},
   "outputs": [
    {
     "ename": "FileNotFoundError",
     "evalue": "[Errno 2] No such file or directory: 'frankenstein.txt'",
     "output_type": "error",
     "traceback": [
      "\u001b[0;31m---------------------------------------------------------------------------\u001b[0m",
      "\u001b[0;31mFileNotFoundError\u001b[0m                         Traceback (most recent call last)",
      "\u001b[0;32m<ipython-input-12-3fa87be08050>\u001b[0m in \u001b[0;36m<module>\u001b[0;34m()\u001b[0m\n\u001b[1;32m      6\u001b[0m \u001b[0;31m# Replace \"frankenstein.txt\" with your file's name.\u001b[0m\u001b[0;34m\u001b[0m\u001b[0;34m\u001b[0m\u001b[0m\n\u001b[1;32m      7\u001b[0m \u001b[0;31m# The text file's contents are stored in the variable \"text\"\u001b[0m\u001b[0;34m\u001b[0m\u001b[0;34m\u001b[0m\u001b[0m\n\u001b[0;32m----> 8\u001b[0;31m \u001b[0;32mwith\u001b[0m \u001b[0mopen\u001b[0m\u001b[0;34m(\u001b[0m\u001b[0;34m'frankenstein.txt'\u001b[0m\u001b[0;34m,\u001b[0m \u001b[0;34m'r'\u001b[0m\u001b[0;34m)\u001b[0m \u001b[0;32mas\u001b[0m \u001b[0mfile\u001b[0m\u001b[0;34m:\u001b[0m\u001b[0;34m\u001b[0m\u001b[0m\n\u001b[0m\u001b[1;32m      9\u001b[0m     \u001b[0mtext\u001b[0m \u001b[0;34m=\u001b[0m \u001b[0mfile\u001b[0m\u001b[0;34m.\u001b[0m\u001b[0mread\u001b[0m\u001b[0;34m(\u001b[0m\u001b[0;34m)\u001b[0m\u001b[0;34m\u001b[0m\u001b[0m\n\u001b[1;32m     10\u001b[0m \u001b[0;34m\u001b[0m\u001b[0m\n",
      "\u001b[0;31mFileNotFoundError\u001b[0m: [Errno 2] No such file or directory: 'frankenstein.txt'"
     ]
    }
   ],
   "source": [
    "import random\n",
    "from textblob import TextBlob\n",
    "\n",
    "# This looks for a file called \"frankenstein.txt\" \n",
    "# in the same directory as my python notebook or script.\n",
    "# Replace \"frankenstein.txt\" with your file's name.\n",
    "# The text file's contents are stored in the variable \"text\"\n",
    "with open('frankenstein.txt', 'r') as file:\n",
    "    text = file.read()\n",
    "\n",
    "# This parses the text file contents into a TextBlob oject called \"blob\"\n",
    "blob = TextBlob(text)\n",
    "\n",
    "# Create two empty lists for storing adjectives and nouns\n",
    "adjectives = []\n",
    "nouns = []\n",
    "\n",
    "# TextBlob parses the words and labels them with a part-of-speech tag.\n",
    "# This code loops through the whole text, checks for adjectives and nouns\n",
    "# and adds them to the appropriate list.\n",
    "for word,pos in blob.tags:\n",
    "    # print(word,pos)\n",
    "    if (pos == 'JJ'):\n",
    "        adjectives.append(word)\n",
    "    if (pos == 'NN'):\n",
    "        nouns.append(word)\n",
    "\n",
    "# This generates an eight-line poem by pairing a random adjective \n",
    "# with a random noun eight times and printing the pairs.\n",
    "for i in range(8):\n",
    "    a = random.choice(adjectives)\n",
    "    n = random.choice(nouns)\n",
    "    print(a,n)"
   ]
  },
  {
   "cell_type": "code",
   "execution_count": null,
   "metadata": {},
   "outputs": [],
   "source": []
  }
 ],
 "metadata": {
  "kernelspec": {
   "display_name": "Python 3",
   "language": "python",
   "name": "python3"
  },
  "language_info": {
   "codemirror_mode": {
    "name": "ipython",
    "version": 3
   },
   "file_extension": ".py",
   "mimetype": "text/x-python",
   "name": "python",
   "nbconvert_exporter": "python",
   "pygments_lexer": "ipython3",
   "version": "3.6.5"
  }
 },
 "nbformat": 4,
 "nbformat_minor": 2
}
